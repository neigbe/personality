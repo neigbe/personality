{
 "cells": [
  {
   "cell_type": "code",
   "execution_count": 3,
   "metadata": {},
   "outputs": [
    {
     "ename": "ModuleNotFoundError",
     "evalue": "No module named 'tiktoken'",
     "output_type": "error",
     "traceback": [
      "\u001b[0;31m---------------------------------------------------------------------------\u001b[0m",
      "\u001b[0;31mModuleNotFoundError\u001b[0m                       Traceback (most recent call last)",
      "Cell \u001b[0;32mIn[3], line 5\u001b[0m\n\u001b[1;32m      3\u001b[0m \u001b[38;5;28;01mimport\u001b[39;00m \u001b[38;5;21;01mpandas\u001b[39;00m \u001b[38;5;28;01mas\u001b[39;00m \u001b[38;5;21;01mpd\u001b[39;00m\n\u001b[1;32m      4\u001b[0m \u001b[38;5;28;01mimport\u001b[39;00m \u001b[38;5;21;01mpers_labels\u001b[39;00m\n\u001b[0;32m----> 5\u001b[0m \u001b[38;5;28;01mimport\u001b[39;00m \u001b[38;5;21;01mtiktoken\u001b[39;00m\n\u001b[1;32m      6\u001b[0m \u001b[38;5;28;01mimport\u001b[39;00m \u001b[38;5;21;01mtqdm\u001b[39;00m\n\u001b[1;32m      8\u001b[0m \u001b[38;5;28;01mfrom\u001b[39;00m \u001b[38;5;21;01mopenai\u001b[39;00m \u001b[38;5;28;01mimport\u001b[39;00m OpenAI\n",
      "\u001b[0;31mModuleNotFoundError\u001b[0m: No module named 'tiktoken'"
     ]
    }
   ],
   "source": [
    "import getpass\n",
    "import json\n",
    "import pandas as pd\n",
    "import tiktoken\n",
    "import tqdm\n",
    "\n",
    "from data_processing import pers_labels\n",
    "from openai import OpenAI\n",
    "from sklearn.metrics import f1_score, precision_score, recall_score"
   ]
  },
  {
   "cell_type": "code",
   "execution_count": null,
   "metadata": {},
   "outputs": [],
   "source": [
    "client = OpenAI(api_key=getpass.getpass(\"please enter your openai api key\"))"
   ]
  },
  {
   "cell_type": "code",
   "execution_count": null,
   "metadata": {},
   "outputs": [],
   "source": [
    "PWD = os.environ[\"WORKSPACE_PATH\"]\n",
    "\n",
    "data_type = \"big 5_4_top_lbl\"\n",
    "\n",
    "label_mode = pers_labels.MBPT if pers_labels.MBPT.lower() in data_type else pers_labels.BIG_5\n",
    "\n",
    "index = [idx for idx in range(5) if str(idx) in data_type][0]\n",
    "\n",
    "pers_defs = {\n",
    "    pers_labels.MBPT: {\n",
    "        0: ((\"I\", \"introverted\"), (\"E\", \"extroverted\")),\n",
    "        1: ((\"S\", \"sensing\"), (\"N\", \"intuitive\")),\n",
    "        2: ((\"F\", \"feeling\"), (\"T\", \"thinking\")),\n",
    "        3: ((\"J\", \"judging\"), (\"P\", \"perceiving\")),\n",
    "    },\n",
    "    pers_labels.BIG_5: {\n",
    "        0: ((\"S\", \"social\"), (\"R\", \"reserved\")),\n",
    "        1: ((\"L\", \"limbic\"), (\"C\", \"calm\")),\n",
    "        2: ((\"O\", \"organized\"), (\"U\", \"unstructured\")),\n",
    "        3: ((\"A\", \"agreeable\"), (\"E\", \"egocentric\")),\n",
    "        4: ((\"N\", \"non-curious\"), (\"I\", \"inquisitive\")),\n",
    "    }\n",
    "}\n",
    "\n",
    "((label1, label1_def), (label2, label2_def)) = pers_defs[label_mode][index]"
   ]
  },
  {
   "cell_type": "markdown",
   "metadata": {},
   "source": [
    "## loading data"
   ]
  },
  {
   "cell_type": "code",
   "execution_count": null,
   "metadata": {},
   "outputs": [],
   "source": [
    "with open(f\"{PWD}/data/cornell_movies/speakers.json\", \"r+\") as fp:\n",
    "    fp_parsed = json.load(fp)\n",
    "    chars_meta = {}\n",
    "    chars_meta_rows = []\n",
    "    for char in fp_parsed:\n",
    "        meta = fp_parsed[char][\"meta\"]\n",
    "        meta[\"character_name\"] = meta[\"character_name\"].lower()\n",
    "        meta[\"char_id\"] = char\n",
    "        chars_meta[char] = meta\n",
    "        chars_meta_rows.append(meta)"
   ]
  },
  {
   "cell_type": "code",
   "execution_count": null,
   "metadata": {},
   "outputs": [],
   "source": [
    "dataset = pd.read_json(f\"{PWD}/data/datasets/{data_type}.jsonl\", lines=True)"
   ]
  },
  {
   "cell_type": "markdown",
   "metadata": {},
   "source": [
    "## query gpt"
   ]
  },
  {
   "cell_type": "code",
   "execution_count": null,
   "metadata": {},
   "outputs": [],
   "source": [
    "def classify_text(text, char):\n",
    "\n",
    "    _, scene = text.split(\"\\n\", 1)\n",
    "\n",
    "    # To get the tokeniser corresponding to a specific model in the OpenAI API:\n",
    "    enc = tiktoken.encoding_for_model(\"gpt-3.5-turbo\")\n",
    "\n",
    "    prompt = f\"\"\"\n",
    "Read the scenes below and then categorize {char}'s personality as {label1} for {label1_def} or \"{label2}\" for {label2_def}, according to the {label_mode.lower()} personality typology. Response with only one word.\n",
    "\n",
    "scenes:\n",
    "    {scene}\n",
    "    \"\"\"\n",
    "\n",
    "    prompt = enc.decode(enc.encode(prompt)[:4000])\n",
    "\n",
    "    response = client.chat.completions.create(\n",
    "        model=\"gpt-4-turbo-preview\",  # GPT-3.5 Turbo engine\n",
    "        messages=[{\"role\": \"user\", \"content\": prompt}],\n",
    "        max_tokens=1,  # Restrict output to only one token\n",
    "        n=1,  # Generate only one response,\n",
    "        temperature=0\n",
    "    )\n",
    "\n",
    "    # Extract the first choice (response)\n",
    "    predicted_label = response.choices[0].message.content\n",
    "    return prompt, predicted_label"
   ]
  },
  {
   "cell_type": "code",
   "execution_count": null,
   "metadata": {},
   "outputs": [],
   "source": [
    "def verify_output(pred):\n",
    "    if pred.upper() not in [label1, label2]:\n",
    "        raise Exception(f\"Invalid response: '{pred}'\")"
   ]
  },
  {
   "cell_type": "code",
   "execution_count": null,
   "metadata": {},
   "outputs": [],
   "source": [
    "chars = [char_id for char_id in chars_meta]\n",
    "preds = {}\n",
    "labels = {}"
   ]
  },
  {
   "cell_type": "code",
   "execution_count": null,
   "metadata": {},
   "outputs": [
    {
     "name": "stderr",
     "output_type": "stream",
     "text": [
      "472it [06:18,  1.23s/it]"
     ]
    },
    {
     "name": "stdout",
     "output_type": "stream",
     "text": [
      "invalid response\n"
     ]
    },
    {
     "name": "stderr",
     "output_type": "stream",
     "text": [
      "732it [10:06,  2.34it/s]"
     ]
    },
    {
     "name": "stdout",
     "output_type": "stream",
     "text": [
      "invalid response\n"
     ]
    },
    {
     "name": "stderr",
     "output_type": "stream",
     "text": [
      "866it [11:45,  1.23it/s]\n"
     ]
    }
   ],
   "source": [
    "for row in tqdm.tqdm(dataset.iloc):\n",
    "    if row.char_id in preds:\n",
    "        continue\n",
    "\n",
    "    char_name = chars_meta[row.char_id][\"character_name\"]\n",
    "    scene = row.text\n",
    "\n",
    "    # print(char_name)\n",
    "\n",
    "    prompt, response = classify_text(scene, char_name)\n",
    "\n",
    "    # print(prompt)\n",
    "    # print()\n",
    "\n",
    "    try:\n",
    "        verify_output(response)\n",
    "    except:\n",
    "        print(\"invalid response\")\n",
    "        continue\n",
    "    # print(\"Correct:\", row.label)\n",
    "    # print(\"Predicted:\", response)\n",
    "    preds[row.char_id] = response\n",
    "    labels[row.char_id] = row.label\n"
   ]
  },
  {
   "cell_type": "code",
   "execution_count": 108,
   "metadata": {},
   "outputs": [],
   "source": [
    "with open(f\"{PWD}/data/gpt_preds/{data_type}-{len(preds)}.json\", \"w+\") as fp:\n",
    "    json.dump(preds, fp)"
   ]
  },
  {
   "cell_type": "markdown",
   "metadata": {},
   "source": [
    "## evaluation"
   ]
  },
  {
   "cell_type": "markdown",
   "metadata": {},
   "source": [
    "### overall metrics"
   ]
  },
  {
   "cell_type": "code",
   "execution_count": 109,
   "metadata": {},
   "outputs": [],
   "source": [
    "preds_len = len(preds)\n",
    "# preds_len = 1897\n",
    "\n",
    "with open(f\"{PWD}/data/gpt_preds/{data_type}-{preds_len}.json\", \"r+\") as fp:\n",
    "    preds = json.load(fp)"
   ]
  },
  {
   "cell_type": "code",
   "execution_count": 110,
   "metadata": {},
   "outputs": [],
   "source": [
    "for row in dataset.iloc:\n",
    "    if row.char_id in preds:\n",
    "        labels[row.char_id] = row.label"
   ]
  },
  {
   "cell_type": "code",
   "execution_count": 111,
   "metadata": {},
   "outputs": [],
   "source": [
    "pred_array = [preds[char_id] for char_id in chars if char_id in preds]\n",
    "label_array = [labels[char_id] for char_id in chars if char_id in preds]"
   ]
  },
  {
   "cell_type": "code",
   "execution_count": 112,
   "metadata": {},
   "outputs": [
    {
     "name": "stdout",
     "output_type": "stream",
     "text": [
      "864 864\n"
     ]
    }
   ],
   "source": [
    "print(len(pred_array), len(label_array))"
   ]
  },
  {
   "cell_type": "code",
   "execution_count": 113,
   "metadata": {},
   "outputs": [
    {
     "name": "stdout",
     "output_type": "stream",
     "text": [
      "overall:\n",
      "f1 0.4018303368598689\n",
      "precision 0.6039663461538461\n",
      "recall 0.5149476185333189\n"
     ]
    }
   ],
   "source": [
    "f1 = f1_score(label_array, pred_array, labels=[label1, label2], average=\"macro\")\n",
    "prec = precision_score(label_array, pred_array, labels=[label1, label2], average=\"macro\")\n",
    "recall = recall_score(label_array, pred_array, labels=[label1, label2], average=\"macro\")\n",
    "\n",
    "print(\"overall:\")\n",
    "print(\"f1\", f1)\n",
    "print(\"precision\", prec)\n",
    "print(\"recall\", recall)\n"
   ]
  },
  {
   "cell_type": "markdown",
   "metadata": {},
   "source": [
    "### label 1 metrics"
   ]
  },
  {
   "cell_type": "code",
   "execution_count": 114,
   "metadata": {},
   "outputs": [
    {
     "name": "stdout",
     "output_type": "stream",
     "text": [
      "N:\n",
      "f1 0.09859154929577466\n",
      "precision 0.65625\n",
      "recall 0.0532994923857868\n"
     ]
    }
   ],
   "source": [
    "f1 = f1_score(label_array, pred_array, labels=[label1, label2], pos_label=label1)\n",
    "prec = precision_score(label_array, pred_array, labels=[label1, label2], pos_label=label1)\n",
    "recall = recall_score(label_array, pred_array, labels=[label1, label2], pos_label=label1)\n",
    "\n",
    "print(label1 + \":\")\n",
    "print(\"f1\", f1)\n",
    "print(\"precision\", prec)\n",
    "print(\"recall\", recall)"
   ]
  },
  {
   "cell_type": "markdown",
   "metadata": {},
   "source": [
    "### label 2 metrics"
   ]
  },
  {
   "cell_type": "code",
   "execution_count": 115,
   "metadata": {},
   "outputs": [
    {
     "name": "stdout",
     "output_type": "stream",
     "text": [
      "I:\n",
      "f1 0.7050691244239632\n",
      "precision 0.5516826923076923\n",
      "recall 0.9765957446808511\n"
     ]
    }
   ],
   "source": [
    "f1 = f1_score(label_array, pred_array, labels=[label1, label2], pos_label=label2)\n",
    "prec = precision_score(label_array, pred_array, labels=[label1, label2], pos_label=label2)\n",
    "recall = recall_score(label_array, pred_array, labels=[label1, label2], pos_label=label2)\n",
    "\n",
    "print(label2 + \":\")\n",
    "print(\"f1\", f1)\n",
    "print(\"precision\", prec)\n",
    "print(\"recall\", recall)"
   ]
  },
  {
   "cell_type": "code",
   "execution_count": null,
   "metadata": {},
   "outputs": [],
   "source": []
  }
 ],
 "metadata": {
  "kernelspec": {
   "display_name": "personality",
   "language": "python",
   "name": "python3"
  },
  "language_info": {
   "codemirror_mode": {
    "name": "ipython",
    "version": 3
   },
   "file_extension": ".py",
   "mimetype": "text/x-python",
   "name": "python",
   "nbconvert_exporter": "python",
   "pygments_lexer": "ipython3",
   "version": "3.9.0"
  }
 },
 "nbformat": 4,
 "nbformat_minor": 2
}
