{
 "cells": [
  {
   "cell_type": "code",
   "execution_count": 2,
   "metadata": {},
   "outputs": [],
   "source": [
    "import json\n",
    "import pandas as pd\n",
    "\n",
    "from collections import defaultdict\n",
    "from data_processing import pers_labels"
   ]
  },
  {
   "cell_type": "markdown",
   "metadata": {},
   "source": [
    "setting label types"
   ]
  },
  {
   "cell_type": "code",
   "execution_count": 3,
   "metadata": {},
   "outputs": [
    {
     "data": {
      "text/plain": [
       "'big 5_4_all_lbls'"
      ]
     },
     "execution_count": 3,
     "metadata": {},
     "output_type": "execute_result"
    }
   ],
   "source": [
    "PWD = os.environ[\"WORKSPACE_PATH\"]\n",
    "\n",
    "pers_mode = pers_labels.BIG_5\n",
    "dim_index = 4\n",
    "\n",
    "config_name = f\"{pers_mode.lower()}_{dim_index}_all_lbls\"\n",
    "\n",
    "config_name"
   ]
  },
  {
   "cell_type": "markdown",
   "metadata": {},
   "source": [
    "## loading speakers"
   ]
  },
  {
   "cell_type": "code",
   "execution_count": 32,
   "metadata": {},
   "outputs": [],
   "source": [
    "with open(f\"{PWD}/data/cornell_movies/speakers.json\", \"r+\") as fp:\n",
    "    fp_parsed = json.load(fp)\n",
    "    chars_meta = {}\n",
    "    chars_meta_rows = []\n",
    "    for char in fp_parsed:\n",
    "        meta = fp_parsed[char][\"meta\"]\n",
    "        meta[\"character_name\"] = meta[\"character_name\"].lower()\n",
    "        meta[\"char_id\"] = char\n",
    "        chars_meta[char] = meta\n",
    "        chars_meta_rows.append(meta)\n"
   ]
  },
  {
   "cell_type": "markdown",
   "metadata": {},
   "source": [
    "## loading labels"
   ]
  },
  {
   "cell_type": "code",
   "execution_count": 33,
   "metadata": {},
   "outputs": [],
   "source": [
    "pers_df = pers_labels.get_pers_df()"
   ]
  },
  {
   "cell_type": "code",
   "execution_count": 34,
   "metadata": {},
   "outputs": [],
   "source": [
    "def get_label(row, mode, dim_index):\n",
    "    dim_labels = pers_labels.get_dim_votes(row, mode)\n",
    "    return dim_labels[dim_index] if dim_labels else dim_labels"
   ]
  },
  {
   "cell_type": "code",
   "execution_count": 35,
   "metadata": {},
   "outputs": [],
   "source": [
    "char_id_to_lbl = dict()\n",
    "for row in pers_df.iloc:\n",
    "    char_id_to_lbl[row.char_id] = get_label(row, pers_mode, dim_index)"
   ]
  },
  {
   "cell_type": "markdown",
   "metadata": {},
   "source": [
    "## joining convos and speakers"
   ]
  },
  {
   "cell_type": "code",
   "execution_count": 36,
   "metadata": {},
   "outputs": [],
   "source": [
    "with open(f\"{PWD}/data/cornell_movies/utterances.jsonl\", \"r+\") as fp:\n",
    "    utt_df = pd.read_json(fp, lines=True)"
   ]
  },
  {
   "cell_type": "code",
   "execution_count": 37,
   "metadata": {},
   "outputs": [],
   "source": [
    "convos = defaultdict(lambda: {\"characters\": set(), \"lines\": []})\n",
    "\n",
    "for row in utt_df.iloc:\n",
    "    convos[row.conversation_id][\"lines\"].append({\n",
    "        \"id\": row.id,\n",
    "        \"speaker\": row.speaker,\n",
    "        \"text\": row.text\n",
    "    })\n",
    "    convos[row.conversation_id][\"movie\"] = row.meta[\"movie_id\"]\n",
    "    convos[row.conversation_id][\"characters\"].add(row.speaker)"
   ]
  },
  {
   "cell_type": "code",
   "execution_count": 38,
   "metadata": {},
   "outputs": [],
   "source": [
    "def format_convo(lines):\n",
    "    fmtd_lines = []\n",
    "    for l in sorted(lines, key=lambda l: l[\"id\"]):\n",
    "        char_id = l['speaker']\n",
    "        char = chars_meta[char_id][\"character_name\"]\n",
    "        fmtd_lines.append(f\"{char}: {l['text']}\")\n",
    "    return \"\\n\".join(fmtd_lines)"
   ]
  },
  {
   "cell_type": "code",
   "execution_count": 39,
   "metadata": {},
   "outputs": [],
   "source": [
    "def get_line_count(lines, chr):\n",
    "    return len([l for l in lines if l[\"speaker\"] == chr])"
   ]
  },
  {
   "cell_type": "code",
   "execution_count": 40,
   "metadata": {},
   "outputs": [],
   "source": [
    "char_to_scenes = defaultdict(list)\n",
    "\n",
    "for conv_id in convos:\n",
    "    conv_info = convos[conv_id]\n",
    "    lines = conv_info[\"lines\"]\n",
    "    fmtd_convo = format_convo(lines)\n",
    "\n",
    "    for char in conv_info[\"characters\"]:\n",
    "        if char in char_id_to_lbl:\n",
    "            if (lbl := char_id_to_lbl[char]) and get_line_count(lines, char) >= 3:\n",
    "                char_to_scenes[char].append(fmtd_convo)"
   ]
  },
  {
   "cell_type": "code",
   "execution_count": 41,
   "metadata": {},
   "outputs": [
    {
     "data": {
      "text/plain": [
       "6690"
      ]
     },
     "execution_count": 41,
     "metadata": {},
     "output_type": "execute_result"
    }
   ],
   "source": [
    "dataset = []\n",
    "for char in char_to_scenes:\n",
    "    for lbl in char_id_to_lbl[char]:\n",
    "        scenes = \"\\n\\n\".join(char_to_scenes[char])\n",
    "        text = f\"Please categorize {chars_meta[char]['character_name']}.\\n\\n{scenes}\"\n",
    "        dataset.append({\"text\": text, \"label\": lbl, \"char_id\": char, \"movie_id\": chars_meta[char][\"movie_idx\"]})\n",
    "\n",
    "len(dataset)"
   ]
  },
  {
   "cell_type": "code",
   "execution_count": 42,
   "metadata": {},
   "outputs": [],
   "source": [
    "with open(f\"{PWD}/data/model_datasets/{config_name}.jsonl\", \"w+\") as fp:\n",
    "    fp.write(\"\\n\".join([json.dumps(ex) for ex in dataset]))"
   ]
  },
  {
   "cell_type": "code",
   "execution_count": null,
   "metadata": {},
   "outputs": [],
   "source": []
  }
 ],
 "metadata": {
  "kernelspec": {
   "display_name": "personality",
   "language": "python",
   "name": "python3"
  },
  "language_info": {
   "codemirror_mode": {
    "name": "ipython",
    "version": 3
   },
   "file_extension": ".py",
   "mimetype": "text/x-python",
   "name": "python",
   "nbconvert_exporter": "python",
   "pygments_lexer": "ipython3",
   "version": "3.9.0"
  }
 },
 "nbformat": 4,
 "nbformat_minor": 2
}
