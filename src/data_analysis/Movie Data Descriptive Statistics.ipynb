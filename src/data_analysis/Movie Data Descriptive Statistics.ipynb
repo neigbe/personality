{
 "cells": [
  {
   "cell_type": "code",
   "execution_count": 2,
   "metadata": {},
   "outputs": [],
   "source": [
    "import json\n",
    "import os\n",
    "\n",
    "from collections import Counter\n",
    "from data_processing import pers_labels"
   ]
  },
  {
   "cell_type": "code",
   "execution_count": 3,
   "metadata": {},
   "outputs": [],
   "source": [
    "PWD = os.environ[\"WORKSPACE_PATH\"]"
   ]
  },
  {
   "cell_type": "markdown",
   "metadata": {},
   "source": [
    "## utility functions"
   ]
  },
  {
   "cell_type": "code",
   "execution_count": 4,
   "metadata": {},
   "outputs": [],
   "source": [
    "PERS_DATA_FOLDER = f\"{PWD}data/personality_data/\"\n",
    "\n",
    "in_pers_data = lambda data_path: f\"{PERS_DATA_FOLDER}{data_path}\""
   ]
  },
  {
   "cell_type": "code",
   "execution_count": 5,
   "metadata": {},
   "outputs": [],
   "source": [
    "def open_and_load_json(path, lines=False):\n",
    "    obj = [] if lines else {}\n",
    "\n",
    "    if os.path.exists(path):\n",
    "        with open(path, \"r+\") as fp:\n",
    "            if lines:\n",
    "                obj += [json.loads(line) for line in fp.readlines()]\n",
    "            else:\n",
    "                obj.update(json.load(fp))\n",
    "    return obj"
   ]
  },
  {
   "cell_type": "code",
   "execution_count": 6,
   "metadata": {},
   "outputs": [],
   "source": [
    "def save_json(path, obj, lines=False):\n",
    "    with open(path, \"w+\") as fp:\n",
    "        if lines:\n",
    "            fp.writelines([json.dumps(item) for item in obj])\n",
    "        else:\n",
    "            json.dump(obj, fp)"
   ]
  },
  {
   "cell_type": "markdown",
   "metadata": {},
   "source": [
    "## speaker analysis"
   ]
  },
  {
   "cell_type": "code",
   "execution_count": 8,
   "metadata": {},
   "outputs": [],
   "source": [
    "with open(f\"{PWD}/data/cornell_movies/speakers.json\", \"r+\") as  fp:\n",
    "    speakers = json.load(fp)"
   ]
  },
  {
   "cell_type": "code",
   "execution_count": 9,
   "metadata": {},
   "outputs": [],
   "source": [
    "female_count = 0\n",
    "male_count = 0\n",
    "n_a_count = 0\n",
    "for s in speakers:\n",
    "    gender = speakers[s][\"meta\"][\"gender\"]\n",
    "    if gender == \"f\":\n",
    "        female_count += 1\n",
    "    elif gender == \"m\":\n",
    "        male_count += 1\n",
    "    else:\n",
    "        n_a_count +=1"
   ]
  },
  {
   "cell_type": "code",
   "execution_count": 10,
   "metadata": {},
   "outputs": [
    {
     "name": "stdout",
     "output_type": "stream",
     "text": [
      "f 921\n",
      "m 1899\n",
      "n/a 6215\n"
     ]
    }
   ],
   "source": [
    "print(\"f\", female_count)\n",
    "print(\"m\", male_count)\n",
    "print(\"n/a\", n_a_count)"
   ]
  }
 ],
 "metadata": {
  "kernelspec": {
   "display_name": "personality",
   "language": "python",
   "name": "python3"
  },
  "language_info": {
   "codemirror_mode": {
    "name": "ipython",
    "version": 3
   },
   "file_extension": ".py",
   "mimetype": "text/x-python",
   "name": "python",
   "nbconvert_exporter": "python",
   "pygments_lexer": "ipython3",
   "version": "3.9.0"
  }
 },
 "nbformat": 4,
 "nbformat_minor": 2
}
