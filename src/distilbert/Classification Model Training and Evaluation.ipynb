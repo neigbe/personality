{
 "cells": [
  {
   "cell_type": "code",
   "execution_count": 1,
   "metadata": {},
   "outputs": [],
   "source": [
    "import pandas as pd\n",
    "import pickle as pkl\n",
    "\n",
    "from data_processing import pers_labels\n",
    "from sklearn.model_selection import GroupShuffleSplit\n",
    "from sklearn.preprocessing import LabelEncoder"
   ]
  },
  {
   "cell_type": "code",
   "execution_count": 2,
   "metadata": {},
   "outputs": [],
   "source": [
    "PWD = os.environ[\"WORKSPACE_PATH\"]\n",
    "\n",
    "data_type = \"mbpt_0_top_lbl\""
   ]
  },
  {
   "cell_type": "code",
   "execution_count": 3,
   "metadata": {},
   "outputs": [
    {
     "data": {
      "text/plain": [
       "1932"
      ]
     },
     "execution_count": 3,
     "metadata": {},
     "output_type": "execute_result"
    },
    {
     "ename": "",
     "evalue": "",
     "output_type": "error",
     "traceback": [
      "\u001b[1;31mThe Kernel crashed while executing code in the current cell or a previous cell. \n",
      "\u001b[1;31mPlease review the code in the cell(s) to identify a possible cause of the failure. \n",
      "\u001b[1;31mClick <a href='https://aka.ms/vscodeJupyterKernelCrash'>here</a> for more info. \n",
      "\u001b[1;31mView Jupyter <a href='command:jupyter.viewOutput'>log</a> for further details."
     ]
    }
   ],
   "source": [
    "dataset = pd.read_json(f\"{PWD}/data/model_datasets/{data_type}.jsonl\", lines=True)\n",
    "\n",
    "len(dataset)"
   ]
  },
  {
   "cell_type": "code",
   "execution_count": 5,
   "metadata": {},
   "outputs": [
    {
     "data": {
      "text/html": [
       "<div>\n",
       "<style scoped>\n",
       "    .dataframe tbody tr th:only-of-type {\n",
       "        vertical-align: middle;\n",
       "    }\n",
       "\n",
       "    .dataframe tbody tr th {\n",
       "        vertical-align: top;\n",
       "    }\n",
       "\n",
       "    .dataframe thead th {\n",
       "        text-align: right;\n",
       "    }\n",
       "</style>\n",
       "<table border=\"1\" class=\"dataframe\">\n",
       "  <thead>\n",
       "    <tr style=\"text-align: right;\">\n",
       "      <th></th>\n",
       "      <th>text</th>\n",
       "      <th>label</th>\n",
       "      <th>char_id</th>\n",
       "      <th>movie_id</th>\n",
       "    </tr>\n",
       "  </thead>\n",
       "  <tbody>\n",
       "    <tr>\n",
       "      <th>0</th>\n",
       "      <td>Please categorize bianca.\\n\\nbianca: C'esc ma ...</td>\n",
       "      <td>E</td>\n",
       "      <td>u0</td>\n",
       "      <td>m0</td>\n",
       "    </tr>\n",
       "    <tr>\n",
       "      <th>1</th>\n",
       "      <td>Please categorize kat.\\n\\nkat: That's not\\nbia...</td>\n",
       "      <td>I</td>\n",
       "      <td>u5</td>\n",
       "      <td>m0</td>\n",
       "    </tr>\n",
       "    <tr>\n",
       "      <th>2</th>\n",
       "      <td>Please categorize walter.\\n\\nbianca: Daddy, I ...</td>\n",
       "      <td>I</td>\n",
       "      <td>u11</td>\n",
       "      <td>m0</td>\n",
       "    </tr>\n",
       "    <tr>\n",
       "      <th>3</th>\n",
       "      <td>Please categorize patrick.\\n\\npatrick: Always ...</td>\n",
       "      <td>I</td>\n",
       "      <td>u9</td>\n",
       "      <td>m0</td>\n",
       "    </tr>\n",
       "    <tr>\n",
       "      <th>4</th>\n",
       "      <td>Please categorize cameron.\\n\\nmichael: What ma...</td>\n",
       "      <td>I</td>\n",
       "      <td>u2</td>\n",
       "      <td>m0</td>\n",
       "    </tr>\n",
       "  </tbody>\n",
       "</table>\n",
       "</div>"
      ],
      "text/plain": [
       "                                                text label char_id movie_id\n",
       "0  Please categorize bianca.\\n\\nbianca: C'esc ma ...     E      u0       m0\n",
       "1  Please categorize kat.\\n\\nkat: That's not\\nbia...     I      u5       m0\n",
       "2  Please categorize walter.\\n\\nbianca: Daddy, I ...     I     u11       m0\n",
       "3  Please categorize patrick.\\n\\npatrick: Always ...     I      u9       m0\n",
       "4  Please categorize cameron.\\n\\nmichael: What ma...     I      u2       m0"
      ]
     },
     "execution_count": 5,
     "metadata": {},
     "output_type": "execute_result"
    }
   ],
   "source": [
    "dataset.head(5)"
   ]
  },
  {
   "cell_type": "code",
   "execution_count": 6,
   "metadata": {},
   "outputs": [],
   "source": [
    "label_enc_path = f\"{PWD}/data/label_encoders/{data_type}.pkl\"\n",
    "\n",
    "label_enc = LabelEncoder()\n",
    "\n",
    "dataset[\"label\"] = label_enc.fit_transform(dataset[\"label\"])\n",
    "\n",
    "with open(label_enc_path, \"wb+\") as fp:\n",
    "    pkl.dump(label_enc, fp)"
   ]
  },
  {
   "cell_type": "code",
   "execution_count": 7,
   "metadata": {},
   "outputs": [],
   "source": [
    "splitter1 = GroupShuffleSplit(test_size=.25, random_state=12)\n",
    "\n",
    "non_test_idx, test_idx = next(splitter1.split(X=dataset[[\"text\"]], y=dataset[\"label\"], groups=dataset[\"movie_id\"]))\n",
    "\n",
    "test_df = dataset[[\"text\", \"label\"]].iloc[test_idx]\n",
    "non_test_df = dataset.iloc[non_test_idx]\n",
    "\n",
    "splitter2 = GroupShuffleSplit(test_size=.2, random_state=12)\n",
    "\n",
    "train_idx, valid_idx = next(splitter2.split(X=non_test_df, y=non_test_df[\"label\"], groups=non_test_df[\"movie_id\"]))\n",
    "\n",
    "to_split_df = non_test_df[[\"text\", \"label\"]]\n",
    "\n",
    "train_df = to_split_df.iloc[train_idx]\n",
    "valid_df = to_split_df.iloc[valid_idx]"
   ]
  },
  {
   "cell_type": "code",
   "execution_count": 8,
   "metadata": {},
   "outputs": [
    {
     "data": {
      "text/plain": [
       "(1146, 2)"
      ]
     },
     "execution_count": 8,
     "metadata": {},
     "output_type": "execute_result"
    }
   ],
   "source": [
    "train_df.shape"
   ]
  },
  {
   "cell_type": "code",
   "execution_count": 9,
   "metadata": {},
   "outputs": [
    {
     "data": {
      "text/plain": [
       "(279, 2)"
      ]
     },
     "execution_count": 9,
     "metadata": {},
     "output_type": "execute_result"
    }
   ],
   "source": [
    "valid_df.shape"
   ]
  },
  {
   "cell_type": "code",
   "execution_count": 10,
   "metadata": {},
   "outputs": [
    {
     "data": {
      "text/plain": [
       "(507, 2)"
      ]
     },
     "execution_count": 10,
     "metadata": {},
     "output_type": "execute_result"
    }
   ],
   "source": [
    "test_df.shape"
   ]
  },
  {
   "cell_type": "markdown",
   "metadata": {},
   "source": [
    "## time to train!"
   ]
  },
  {
   "cell_type": "code",
   "execution_count": 8,
   "metadata": {},
   "outputs": [],
   "source": [
    "import evaluate\n",
    "import numpy as np\n",
    "import torch\n",
    "\n",
    "from datasets import Dataset\n",
    "from transformers import EarlyStoppingCallback, DistilBertConfig, DistilBertForSequenceClassification, DistilBertTokenizer"
   ]
  },
  {
   "cell_type": "code",
   "execution_count": 9,
   "metadata": {},
   "outputs": [
    {
     "name": "stderr",
     "output_type": "stream",
     "text": [
      "Some weights of DistilBertForSequenceClassification were not initialized from the model checkpoint at distilbert-base-uncased and are newly initialized: ['classifier.weight', 'pre_classifier.weight', 'pre_classifier.bias', 'classifier.bias']\n",
      "You should probably TRAIN this model on a down-stream task to be able to use it for predictions and inference.\n"
     ]
    }
   ],
   "source": [
    "device = \"mps\" if torch.backends.mps.is_available() else \"cuda\" if torch.cuda.is_available() else \"cpu\"\n",
    "\n",
    "config = DistilBertConfig(num_labels=2)\n",
    "tkr = DistilBertTokenizer.from_pretrained(\"distilbert-base-uncased\")\n",
    "model = DistilBertForSequenceClassification.from_pretrained(\"distilbert-base-uncased\", config=config).to(device)"
   ]
  },
  {
   "cell_type": "code",
   "execution_count": 10,
   "metadata": {},
   "outputs": [
    {
     "name": "stdout",
     "output_type": "stream",
     "text": [
      "(516, 3)\n",
      "(132, 3)\n"
     ]
    },
    {
     "name": "stderr",
     "output_type": "stream",
     "text": [
      "/data/anaconda/envs/personality/lib/python3.9/site-packages/pyarrow/pandas_compat.py:373: FutureWarning: is_sparse is deprecated and will be removed in a future version. Check `isinstance(dtype, pd.SparseDtype)` instead.\n",
      "  if _pandas_api.is_sparse(col):\n"
     ]
    }
   ],
   "source": [
    "train = Dataset.from_pandas(train_df, split=\"train\").with_format(\"torch\")\n",
    "valid = Dataset.from_pandas(valid_df, split=\"valid\").with_format(\"torch\")\n",
    "\n",
    "print(train.shape)\n",
    "print(valid.shape)"
   ]
  },
  {
   "cell_type": "code",
   "execution_count": 11,
   "metadata": {},
   "outputs": [
    {
     "data": {
      "application/vnd.jupyter.widget-view+json": {
       "model_id": "266903b19c5b4e13b7948277d80265aa",
       "version_major": 2,
       "version_minor": 0
      },
      "text/plain": [
       "Map:   0%|          | 0/516 [00:00<?, ? examples/s]"
      ]
     },
     "metadata": {},
     "output_type": "display_data"
    },
    {
     "data": {
      "application/vnd.jupyter.widget-view+json": {
       "model_id": "037fe2b46ef94806af0b803cef543e78",
       "version_major": 2,
       "version_minor": 0
      },
      "text/plain": [
       "Map:   0%|          | 0/132 [00:00<?, ? examples/s]"
      ]
     },
     "metadata": {},
     "output_type": "display_data"
    }
   ],
   "source": [
    "tokenize = lambda data: tkr(data[\"text\"], padding=\"max_length\", truncation=True, return_tensors=\"pt\")\n",
    "train_tk = train.map(tokenize, batched=True)\n",
    "valid_tk = valid.map(tokenize, batched=True)"
   ]
  },
  {
   "cell_type": "code",
   "execution_count": 12,
   "metadata": {},
   "outputs": [],
   "source": [
    "metric = evaluate.load(\"f1\")\n",
    "\n",
    "def compute_metrics(eval_pred):\n",
    "    logits, labels = eval_pred\n",
    "    predictions = np.argmax(logits, axis=-1)\n",
    "    return metric.compute(predictions=predictions, references=labels, average=\"macro\")"
   ]
  },
  {
   "cell_type": "code",
   "execution_count": 13,
   "metadata": {},
   "outputs": [],
   "source": [
    "from datetime import datetime\n",
    "from transformers import TrainingArguments, Trainer\n",
    "\n",
    "model_path = f\"{PWD}/models/{data_type}/\"\n",
    "\n",
    "is_mbpt = pers_labels.MBPT.lower() in data_type\n",
    "\n",
    "training_args = TrainingArguments(output_dir=model_path,\n",
    "                                  evaluation_strategy=\"steps\",\n",
    "                                  logging_strategy=\"steps\",\n",
    "                                  num_train_epochs=3 if is_mbpt else 5,\n",
    "                                  save_total_limit = 5,\n",
    "                                  eval_steps=50,\n",
    "                                  metric_for_best_model=\"f1\",\n",
    "                                  load_best_model_at_end=True)\n",
    "\n",
    "trainer = Trainer(\n",
    "    model=model,\n",
    "    args=training_args,\n",
    "    train_dataset=train_tk,\n",
    "    eval_dataset=valid_tk,\n",
    "    compute_metrics=compute_metrics,\n",
    "    callbacks=[EarlyStoppingCallback(early_stopping_patience=3, early_stopping_threshold=.005)]\n",
    ")"
   ]
  },
  {
   "cell_type": "code",
   "execution_count": 14,
   "metadata": {},
   "outputs": [
    {
     "data": {
      "text/html": [
       "\n",
       "    <div>\n",
       "      \n",
       "      <progress value='325' max='325' style='width:300px; height:20px; vertical-align: middle;'></progress>\n",
       "      [325/325 41:40, Epoch 5/5]\n",
       "    </div>\n",
       "    <table border=\"1\" class=\"dataframe\">\n",
       "  <thead>\n",
       " <tr style=\"text-align: left;\">\n",
       "      <th>Step</th>\n",
       "      <th>Training Loss</th>\n",
       "      <th>Validation Loss</th>\n",
       "      <th>F1</th>\n",
       "    </tr>\n",
       "  </thead>\n",
       "  <tbody>\n",
       "    <tr>\n",
       "      <td>50</td>\n",
       "      <td>No log</td>\n",
       "      <td>0.702151</td>\n",
       "      <td>0.352941</td>\n",
       "    </tr>\n",
       "    <tr>\n",
       "      <td>100</td>\n",
       "      <td>No log</td>\n",
       "      <td>0.819791</td>\n",
       "      <td>0.466127</td>\n",
       "    </tr>\n",
       "    <tr>\n",
       "      <td>150</td>\n",
       "      <td>No log</td>\n",
       "      <td>0.844352</td>\n",
       "      <td>0.574194</td>\n",
       "    </tr>\n",
       "    <tr>\n",
       "      <td>200</td>\n",
       "      <td>No log</td>\n",
       "      <td>1.126726</td>\n",
       "      <td>0.590062</td>\n",
       "    </tr>\n",
       "    <tr>\n",
       "      <td>250</td>\n",
       "      <td>No log</td>\n",
       "      <td>1.307918</td>\n",
       "      <td>0.625974</td>\n",
       "    </tr>\n",
       "    <tr>\n",
       "      <td>300</td>\n",
       "      <td>No log</td>\n",
       "      <td>1.402506</td>\n",
       "      <td>0.635023</td>\n",
       "    </tr>\n",
       "  </tbody>\n",
       "</table><p>"
      ],
      "text/plain": [
       "<IPython.core.display.HTML object>"
      ]
     },
     "metadata": {},
     "output_type": "display_data"
    }
   ],
   "source": [
    "trainer.train()\n",
    "\n",
    "trainer.save_model(model_path)"
   ]
  },
  {
   "cell_type": "markdown",
   "metadata": {},
   "source": [
    "## evaluation time!!!"
   ]
  },
  {
   "cell_type": "code",
   "execution_count": 11,
   "metadata": {},
   "outputs": [],
   "source": [
    "with open(label_enc_path, \"rb+\") as fp:\n",
    "    label_enc = pkl.load(fp)"
   ]
  },
  {
   "cell_type": "code",
   "execution_count": 15,
   "metadata": {},
   "outputs": [
    {
     "name": "stderr",
     "output_type": "stream",
     "text": [
      "Some weights of DistilBertForSequenceClassification were not initialized from the model checkpoint at distilbert-base-uncased and are newly initialized: ['classifier.bias', 'classifier.weight', 'pre_classifier.bias', 'pre_classifier.weight']\n",
      "You should probably TRAIN this model on a down-stream task to be able to use it for predictions and inference.\n"
     ]
    }
   ],
   "source": [
    "import evaluate\n",
    "import numpy as np\n",
    "import torch\n",
    "\n",
    "from datasets import Dataset\n",
    "from transformers import EarlyStoppingCallback, DistilBertConfig, DistilBertForSequenceClassification, DistilBertTokenizer\n",
    "\n",
    "device = \"mps\" if torch.backends.mps.is_available() else \"cuda\" if torch.cuda.is_available() else \"cpu\"\n",
    "\n",
    "config = DistilBertConfig(num_labels=2)\n",
    "tkr = DistilBertTokenizer.from_pretrained(\"distilbert-base-uncased\")\n",
    "model = DistilBertForSequenceClassification.from_pretrained(\"distilbert-base-uncased\", config=config).to(device)\n",
    "# model = DistilBertForSequenceClassification.from_pretrained(model_path, config=config).to(device)"
   ]
  },
  {
   "cell_type": "code",
   "execution_count": 16,
   "metadata": {},
   "outputs": [
    {
     "data": {
      "text/plain": [
       "(507, 3)"
      ]
     },
     "execution_count": 16,
     "metadata": {},
     "output_type": "execute_result"
    }
   ],
   "source": [
    "test = Dataset.from_pandas(test_df, split=\"test\").with_format(\"torch\")\n",
    "\n",
    "test.shape"
   ]
  },
  {
   "cell_type": "code",
   "execution_count": 17,
   "metadata": {},
   "outputs": [
    {
     "data": {
      "application/vnd.jupyter.widget-view+json": {
       "model_id": "71d99f93707b4d45ab482fa3b688cef9",
       "version_major": 2,
       "version_minor": 0
      },
      "text/plain": [
       "Map:   0%|          | 0/507 [00:00<?, ? examples/s]"
      ]
     },
     "metadata": {},
     "output_type": "display_data"
    }
   ],
   "source": [
    "tokenize = lambda data: tkr(data[\"text\"], padding=\"max_length\", truncation=True, return_tensors=\"pt\")\n",
    "test_tk = test.map(tokenize, batched=True)"
   ]
  },
  {
   "cell_type": "code",
   "execution_count": 19,
   "metadata": {},
   "outputs": [],
   "source": [
    "from transformers import Trainer\n",
    "\n",
    "trainer = Trainer(\n",
    "    model=model\n",
    ")"
   ]
  },
  {
   "cell_type": "code",
   "execution_count": 20,
   "metadata": {},
   "outputs": [
    {
     "name": "stderr",
     "output_type": "stream",
     "text": [
      "/nlp/scr/neigbe/miniconda3/envs/personality/lib/python3.9/site-packages/torch/nn/parallel/_functions.py:68: UserWarning: Was asked to gather along dimension 0, but all input tensors were scalars; will instead unsqueeze and return a vector.\n",
      "  warnings.warn('Was asked to gather along dimension 0, but all '\n"
     ]
    },
    {
     "data": {
      "text/html": [],
      "text/plain": [
       "<IPython.core.display.HTML object>"
      ]
     },
     "metadata": {},
     "output_type": "display_data"
    }
   ],
   "source": [
    "output = trainer.predict(test_tk)\n",
    "preds = output.predictions\n",
    "labels = output.label_ids"
   ]
  },
  {
   "cell_type": "markdown",
   "metadata": {},
   "source": [
    "## results!"
   ]
  },
  {
   "cell_type": "markdown",
   "metadata": {},
   "source": [
    "overall metrics"
   ]
  },
  {
   "cell_type": "code",
   "execution_count": 21,
   "metadata": {},
   "outputs": [
    {
     "name": "stdout",
     "output_type": "stream",
     "text": [
      "{'f1': 0.41151471710328563, 'recall': 0.4837241616186848, 'precision': 0.4641826427540713}\n"
     ]
    }
   ],
   "source": [
    "args = {\"predictions\": np.argmax(preds, axis=1),  \"references\": test[\"label\"], \"average\": \"macro\"}\n",
    "f1 = evaluate.load(\"f1\")\n",
    "acc = evaluate.load(\"recall\")\n",
    "prec = evaluate.load(\"precision\")\n",
    "\n",
    "scores = {}\n",
    "scores.update(f1.compute(**args))\n",
    "scores.update(acc.compute(**args))\n",
    "scores.update(prec.compute(**args))\n",
    "\n",
    "print(scores)"
   ]
  },
  {
   "cell_type": "markdown",
   "metadata": {},
   "source": [
    "per class metrics"
   ]
  },
  {
   "cell_type": "code",
   "execution_count": 22,
   "metadata": {},
   "outputs": [
    {
     "data": {
      "text/html": [
       "<style type=\"text/css\">\n",
       "</style>\n",
       "<table id=\"T_a4a50\">\n",
       "  <thead>\n",
       "    <tr>\n",
       "      <th id=\"T_a4a50_level0_col0\" class=\"col_heading level0 col0\" >label</th>\n",
       "      <th id=\"T_a4a50_level0_col1\" class=\"col_heading level0 col1\" >f1</th>\n",
       "      <th id=\"T_a4a50_level0_col2\" class=\"col_heading level0 col2\" >recall</th>\n",
       "      <th id=\"T_a4a50_level0_col3\" class=\"col_heading level0 col3\" >precision</th>\n",
       "    </tr>\n",
       "  </thead>\n",
       "  <tbody>\n",
       "    <tr>\n",
       "      <td id=\"T_a4a50_row0_col0\" class=\"data row0 col0\" >E</td>\n",
       "      <td id=\"T_a4a50_row0_col1\" class=\"data row0 col1\" >0.645980</td>\n",
       "      <td id=\"T_a4a50_row0_col2\" class=\"data row0 col2\" >0.854478</td>\n",
       "      <td id=\"T_a4a50_row0_col3\" class=\"data row0 col3\" >0.519274</td>\n",
       "    </tr>\n",
       "    <tr>\n",
       "      <td id=\"T_a4a50_row1_col0\" class=\"data row1 col0\" >I</td>\n",
       "      <td id=\"T_a4a50_row1_col1\" class=\"data row1 col1\" >0.177049</td>\n",
       "      <td id=\"T_a4a50_row1_col2\" class=\"data row1 col2\" >0.112971</td>\n",
       "      <td id=\"T_a4a50_row1_col3\" class=\"data row1 col3\" >0.409091</td>\n",
       "    </tr>\n",
       "  </tbody>\n",
       "</table>\n"
      ],
      "text/plain": [
       "<pandas.io.formats.style.Styler at 0x7f8090284d00>"
      ]
     },
     "execution_count": 22,
     "metadata": {},
     "output_type": "execute_result"
    }
   ],
   "source": [
    "args = {\"predictions\": np.argmax(preds, axis=1),  \"references\": test[\"label\"], \"average\": None}\n",
    "scores = {}\n",
    "scores.update(f1.compute(**args))\n",
    "scores.update(acc.compute(**args))\n",
    "scores.update(prec.compute(**args))\n",
    "\n",
    "\n",
    "class_scores = np.concatenate([val.reshape(-1, 1) for val in scores.values()], axis=1)\n",
    "\n",
    "class_names = np.array(label_enc.inverse_transform(range(2))).reshape(-1, 1)\n",
    "per_class_df = pd.DataFrame(np.concatenate([class_names, class_scores], axis=1), columns=[\"label\", *scores.keys()])\n",
    "\n",
    "per_class_df.style.hide(axis=\"index\")"
   ]
  },
  {
   "cell_type": "code",
   "execution_count": null,
   "metadata": {},
   "outputs": [],
   "source": []
  }
 ],
 "metadata": {
  "kernelspec": {
   "display_name": "personality",
   "language": "python",
   "name": "python3"
  },
  "language_info": {
   "codemirror_mode": {
    "name": "ipython",
    "version": 3
   },
   "file_extension": ".py",
   "mimetype": "text/x-python",
   "name": "python",
   "nbconvert_exporter": "python",
   "pygments_lexer": "ipython3",
   "version": "3.9.0"
  }
 },
 "nbformat": 4,
 "nbformat_minor": 2
}
